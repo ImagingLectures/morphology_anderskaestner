{
 "cells": [
  {
   "cell_type": "code",
   "execution_count": 1,
   "metadata": {
    "collapsed": true
   },
   "outputs": [],
   "source": [
    "import numpy as np\n",
    "import matplotlib.pyplot as plt\n",
    "import skimage.morphology as morph\n",
    "%matplotlib inline"
   ]
  },
  {
   "cell_type": "markdown",
   "metadata": {},
   "source": [
    "# Exercise 1 : basic operations\n",
    "Test the effect of erosion, dilation, open, close on the test\n",
    "image sand_bilevel.png. \n",
    "\n",
    "Change size and type of the structure elements."
   ]
  },
  {
   "cell_type": "markdown",
   "metadata": {},
   "source": [
    "## Erode"
   ]
  },
  {
   "cell_type": "code",
   "execution_count": null,
   "metadata": {
    "collapsed": true
   },
   "outputs": [],
   "source": []
  },
  {
   "cell_type": "markdown",
   "metadata": {},
   "source": [
    "## Dilate"
   ]
  },
  {
   "cell_type": "code",
   "execution_count": null,
   "metadata": {
    "collapsed": true
   },
   "outputs": [],
   "source": []
  },
  {
   "cell_type": "markdown",
   "metadata": {},
   "source": [
    "## Open"
   ]
  },
  {
   "cell_type": "code",
   "execution_count": null,
   "metadata": {
    "collapsed": true
   },
   "outputs": [],
   "source": []
  },
  {
   "cell_type": "markdown",
   "metadata": {},
   "source": [
    "## Close"
   ]
  },
  {
   "cell_type": "code",
   "execution_count": null,
   "metadata": {
    "collapsed": true
   },
   "outputs": [],
   "source": []
  },
  {
   "cell_type": "markdown",
   "metadata": {},
   "source": [
    "# Exercise 2 : Illumination correction\n",
    "Find a structure element that corrects the inhomogeneous illumination in the image sand_grad.png using top-hats. \n",
    "\n",
    "Is there a difference in SE size when you use black top-hat or white top-hat, why?"
   ]
  },
  {
   "cell_type": "code",
   "execution_count": null,
   "metadata": {
    "collapsed": true
   },
   "outputs": [],
   "source": []
  },
  {
   "cell_type": "markdown",
   "metadata": {},
   "source": [
    "# Exercise 3 : Distance maps\n",
    "Compute distance maps of the grains in the sand image using the\n",
    "three metrics Euclidean, City-block, and Chessboard. Compute difference images between the first one\n",
    "and the other two. What conclusion can you make regarding the\n",
    "accuracy of the two connectivity based metrics compared to the\n",
    "Euclidean metric.\n",
    "\n",
    "Keep the Euclidean distance map for the next exercises."
   ]
  },
  {
   "cell_type": "code",
   "execution_count": null,
   "metadata": {
    "collapsed": true
   },
   "outputs": [],
   "source": []
  },
  {
   "cell_type": "code",
   "execution_count": null,
   "metadata": {
    "collapsed": true
   },
   "outputs": [],
   "source": []
  },
  {
   "cell_type": "markdown",
   "metadata": {},
   "source": [
    "# Exercise 4: Local extrema\n",
    "\n",
    "Compute the distance maps of both grains and pore space in the\n",
    "sand image and combine them into one image as\n",
    "\\[\n",
    "g=D_{\\mathcal{E}}(f^c)-D_{\\mathcal{E}}(f)\n",
    "\\]\n",
    "Test the palette of local extrema functions on $g$."
   ]
  },
  {
   "cell_type": "code",
   "execution_count": null,
   "metadata": {
    "collapsed": true
   },
   "outputs": [],
   "source": []
  },
  {
   "cell_type": "markdown",
   "metadata": {},
   "source": [
    "# Exercise 5: Watershed segmentation\n",
    "Reading: http://scikit-image.org/docs/dev/api/skimage.morphology.html?highlight=watershed#skimage.morphology.watershed\n",
    "\n",
    "To segment a binary image with WS you have to compute it's\n",
    "distance map (hopefully already done\\ldots). The distance you have\n",
    "does not show valleys as we want but rather mountains, hence we\n",
    "have to negate the distance map:\n",
    "\n",
    "\\[\n",
    "D=-D\n",
    "\\]\n",
    "\n",
    "We must also define the pore space as not allowed\n",
    "\n",
    "$D(~sand)=-inf$\n",
    "\n",
    "which means that all pixels belonging to the complement of the\n",
    "grains, i.e. the pore-space, are assigned the value $-\\infty$.\n",
    "After these steps is the image ready to segment\n",
    "$L=watershed(D)$\n"
   ]
  },
  {
   "cell_type": "code",
   "execution_count": null,
   "metadata": {
    "collapsed": true
   },
   "outputs": [],
   "source": []
  },
  {
   "cell_type": "code",
   "execution_count": null,
   "metadata": {
    "collapsed": true
   },
   "outputs": [],
   "source": []
  }
 ],
 "metadata": {
  "kernelspec": {
   "display_name": "Python 3",
   "language": "python",
   "name": "python3"
  },
  "language_info": {
   "codemirror_mode": {
    "name": "ipython",
    "version": 3
   },
   "file_extension": ".py",
   "mimetype": "text/x-python",
   "name": "python",
   "nbconvert_exporter": "python",
   "pygments_lexer": "ipython3",
   "version": "3.6.1"
  }
 },
 "nbformat": 4,
 "nbformat_minor": 2
}
