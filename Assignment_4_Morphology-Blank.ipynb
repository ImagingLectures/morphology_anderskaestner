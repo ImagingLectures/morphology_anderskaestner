{
 "cells": [
  {
   "cell_type": "markdown",
   "metadata": {},
   "source": [
    "# Exercises on morphology"
   ]
  },
  {
   "cell_type": "code",
   "execution_count": 1,
   "metadata": {
    "collapsed": true
   },
   "outputs": [],
   "source": [
    "import numpy as np\n",
    "import matplotlib.pyplot as plt\n",
    "import skimage.morphology as morph\n",
    "import skimage.transform as trans\n",
    "from skimage import measure\n",
    "from scipy import ndimage\n",
    "\n",
    "%matplotlib inline"
   ]
  },
  {
   "cell_type": "markdown",
   "metadata": {},
   "source": [
    "## Basic operations\n",
    "Test the effect of erosion, dilation, open, close on the test\n",
    "image sand_bilevel.png. \n",
    "\n",
    "### Exercise 1\n",
    "Change the size of the structure elements. Hint: use a for-loop and plt.subplot"
   ]
  },
  {
   "cell_type": "code",
   "execution_count": 2,
   "metadata": {},
   "outputs": [
    {
     "data": {
      "text/plain": [
       "<matplotlib.image.AxesImage at 0x1c1cecbd68>"
      ]
     },
     "execution_count": 2,
     "metadata": {},
     "output_type": "execute_result"
    },
    {
     "data": {
      "image/png": "[encoded data removed]",
      "text/plain": [
       "<Figure size 432x288 with 1 Axes>"
      ]
     },
     "metadata": {
      "needs_background": "light"
     },
     "output_type": "display_data"
    }
   ],
   "source": [
    "img=plt.imread('sand_bilevel.png')\n",
    "plt.imshow(img)"
   ]
  },
  {
   "cell_type": "markdown",
   "metadata": {},
   "source": [
    "#### Erode"
   ]
  },
  {
   "cell_type": "code",
   "execution_count": 3,
   "metadata": {},
   "outputs": [],
   "source": [
    "# your code here"
   ]
  },
  {
   "cell_type": "markdown",
   "metadata": {},
   "source": [
    "#### Dilate"
   ]
  },
  {
   "cell_type": "code",
   "execution_count": null,
   "metadata": {},
   "outputs": [],
   "source": [
    "# your code here"
   ]
  },
  {
   "cell_type": "markdown",
   "metadata": {},
   "source": [
    "#### Open"
   ]
  },
  {
   "cell_type": "code",
   "execution_count": null,
   "metadata": {},
   "outputs": [],
   "source": [
    "# your code here"
   ]
  },
  {
   "cell_type": "markdown",
   "metadata": {},
   "source": [
    "#### Close"
   ]
  },
  {
   "cell_type": "code",
   "execution_count": null,
   "metadata": {},
   "outputs": [],
   "source": [
    "# your code here"
   ]
  },
  {
   "cell_type": "markdown",
   "metadata": {},
   "source": [
    "__Q1.1__: What can happen when the structure element is too large for\n",
    "1. Open\n",
    "2. Close\n",
    "    \n",
    "__Q1.2__: Which morphologic operation would you use to remove misclassified pixels in...\n",
    "1. the pores\n",
    "2. the grains"
   ]
  },
  {
   "cell_type": "markdown",
   "metadata": {},
   "source": [
    "## Distance maps\n",
    "\n",
    "### Exercise 2\n",
    "\n",
    "Compute distance maps of the grains in the sand image using the\n",
    "three metrics Euclidean, City-block, and Chessboard. Compute difference images between the first one\n",
    "and the other two. "
   ]
  },
  {
   "cell_type": "code",
   "execution_count": 2,
   "metadata": {
    "collapsed": true
   },
   "outputs": [],
   "source": [
    "# your code here"
   ]
  },
  {
   "cell_type": "markdown",
   "metadata": {},
   "source": [
    "__Q2.1__: What conclusion can you make regarding the\n",
    "accuracy of the two connectivity based metrics compared to the\n",
    "Euclidean metric?\n",
    "\n",
    "Keep the result of the Euclidean distance map for the next exercises."
   ]
  },
  {
   "cell_type": "markdown",
   "metadata": {},
   "source": [
    "### Answer: \n",
    "\n",
    "..."
   ]
  },
  {
   "cell_type": "markdown",
   "metadata": {},
   "source": [
    "## Local extrema\n",
    "\n",
    "Compute the distance maps of both grains and pore space in the\n",
    "sand image and combine them into one image as\n",
    "\n",
    "$g=D_{\\mathcal{E}}(f^c)-D_{\\mathcal{E}}(f)$"
   ]
  },
  {
   "cell_type": "code",
   "execution_count": null,
   "metadata": {},
   "outputs": [],
   "source": [
    "# your code here"
   ]
  },
  {
   "cell_type": "markdown",
   "metadata": {},
   "source": [
    "### Exercise 3 \n",
    "Test the palette of local extrema functions (emin,emax,hmin,hmax) on $g$.\n",
    "\n",
    "__Q3.1__: What happens when you set $h$=5 resp. $h$=10?\n",
    "\n",
    "__Q3.2__: Why are there more maxima than minima for these h values?"
   ]
  },
  {
   "cell_type": "code",
   "execution_count": 3,
   "metadata": {},
   "outputs": [],
   "source": [
    "# your code here\n"
   ]
  },
  {
   "cell_type": "markdown",
   "metadata": {},
   "source": [
    "### Answer\n",
    "\n",
    "..."
   ]
  },
  {
   "cell_type": "markdown",
   "metadata": {},
   "source": [
    "## Watershed segmentation\n",
    "Reading: http://scikit-image.org/docs/dev/api/skimage.morphology.html?highlight=watershed#skimage.morphology.watershed\n",
    "and \n",
    "http://www.scipy-lectures.org/packages/scikit-image/auto_examples/plot_segmentations.html\n",
    "\n",
    "### Exercise 4\n",
    "To segment a binary image with WS you have to compute it's\n",
    "distance map (hopefully already done as image $g$ in exercise 4). You also need a marker image that tells the algorithm where to start. I suggest using h_maxima to find the markers.\n",
    "\n",
    "Show the labeled image with a colormap that makes it possible to identify neighbors. This can be hard with the default colormap. \n",
    "\n",
    "__Q4__: What happens when you change the value of $h$ when you create the marker image?"
   ]
  },
  {
   "cell_type": "code",
   "execution_count": null,
   "metadata": {},
   "outputs": [],
   "source": [
    "# your code here"
   ]
  },
  {
   "cell_type": "markdown",
   "metadata": {},
   "source": [
    "### Answer\n",
    "\n",
    "..."
   ]
  },
  {
   "cell_type": "code",
   "execution_count": null,
   "metadata": {
    "collapsed": true
   },
   "outputs": [],
   "source": []
  }
 ],
 "metadata": {
  "kernelspec": {
   "display_name": "Python 3",
   "language": "python",
   "name": "python3"
  },
  "language_info": {
   "codemirror_mode": {
    "name": "ipython",
    "version": 3
   },
   "file_extension": ".py",
   "mimetype": "text/x-python",
   "name": "python",
   "nbconvert_exporter": "python",
   "pygments_lexer": "ipython3",
   "version": "3.7.3"
  }
 },
 "nbformat": 4,
 "nbformat_minor": 2
}
