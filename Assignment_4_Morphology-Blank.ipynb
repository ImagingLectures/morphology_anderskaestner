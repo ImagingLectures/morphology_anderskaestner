{
 "cells": [
  {
   "cell_type": "code",
   "execution_count": null,
   "metadata": {
    "collapsed": true
   },
   "outputs": [],
   "source": [
    "import numpy as np\n",
    "import matplotlib.pyplot as plt\n",
    "import skimage.morphology as morph\n",
    "import skimage.transform as trans\n",
    "from skimage import measure\n",
    "from scipy import ndimage\n",
    "\n",
    "%matplotlib inline"
   ]
  },
  {
   "cell_type": "markdown",
   "metadata": {},
   "source": [
    "# Exercise 1 : basic operations\n",
    "Test the effect of erosion, dilation, open, close on the test\n",
    "image sand_bilevel.png. \n",
    "\n",
    "Change the size of the structure elements. Hint: use a for-loop and plt.subplot"
   ]
  },
  {
   "cell_type": "code",
   "execution_count": null,
   "metadata": {},
   "outputs": [],
   "source": [
    "img=plt.imread('sand_bilevel.png')\n",
    "plt.imshow(img)"
   ]
  },
  {
   "cell_type": "markdown",
   "metadata": {},
   "source": [
    "## Erode"
   ]
  },
  {
   "cell_type": "code",
   "execution_count": null,
   "metadata": {},
   "outputs": [],
   "source": []
  },
  {
   "cell_type": "markdown",
   "metadata": {},
   "source": [
    "## Dilate"
   ]
  },
  {
   "cell_type": "code",
   "execution_count": null,
   "metadata": {},
   "outputs": [],
   "source": []
  },
  {
   "cell_type": "markdown",
   "metadata": {},
   "source": [
    "## Open"
   ]
  },
  {
   "cell_type": "code",
   "execution_count": null,
   "metadata": {},
   "outputs": [],
   "source": []
  },
  {
   "cell_type": "markdown",
   "metadata": {},
   "source": [
    "## Close"
   ]
  },
  {
   "cell_type": "code",
   "execution_count": null,
   "metadata": {},
   "outputs": [],
   "source": []
  },
  {
   "cell_type": "markdown",
   "metadata": {},
   "source": [
    "__Q1.1__: What can happen when the structure element is too large for\n",
    "1. Open\n",
    "2. Close\n",
    "    \n",
    "__Q1.2__: Which morphologic operation would you use to remove misclassified pixels in...\n",
    "1. the pores\n",
    "2. the grains"
   ]
  },
  {
   "cell_type": "markdown",
   "metadata": {},
   "source": [
    "# Exercise 2 : Illumination correction\n",
    "Find a structure element that corrects the inhomogeneous illumination in the image sand_grad.png using top-hats. \n",
    "\n",
    "__Q2__: Is there a difference in SE size when you use black top-hat or white top-hat, why?"
   ]
  },
  {
   "cell_type": "code",
   "execution_count": null,
   "metadata": {
    "collapsed": true
   },
   "outputs": [],
   "source": [
    "g=plt.imread('sand_gradient.png')"
   ]
  },
  {
   "cell_type": "code",
   "execution_count": null,
   "metadata": {},
   "outputs": [],
   "source": []
  },
  {
   "cell_type": "markdown",
   "metadata": {},
   "source": [
    "# Exercise 3 : Distance maps\n",
    "Compute distance maps of the grains in the sand image using the\n",
    "three metrics Euclidean, City-block, and Chessboard. Compute difference images between the first one\n",
    "and the other two. \n",
    "\n",
    "__Q3.1__: What conclusion can you make regarding the\n",
    "accuracy of the two connectivity based metrics compared to the\n",
    "Euclidean metric.\n",
    "\n",
    "Keep the Euclidean distance map for the next exercises."
   ]
  },
  {
   "cell_type": "code",
   "execution_count": null,
   "metadata": {
    "collapsed": true
   },
   "outputs": [],
   "source": []
  },
  {
   "cell_type": "code",
   "execution_count": null,
   "metadata": {},
   "outputs": [],
   "source": [
    "\n"
   ]
  },
  {
   "cell_type": "markdown",
   "metadata": {},
   "source": [
    "### Answer: \n",
    "\n",
    "..."
   ]
  },
  {
   "cell_type": "markdown",
   "metadata": {},
   "source": [
    "# Exercise 4: Local extrema\n",
    "\n",
    "Compute the distance maps of both grains and pore space in the\n",
    "sand image and combine them into one image as\n",
    "\n",
    "$g=D_{\\mathcal{E}}(f^c)-D_{\\mathcal{E}}(f)$"
   ]
  },
  {
   "cell_type": "code",
   "execution_count": null,
   "metadata": {},
   "outputs": [],
   "source": []
  },
  {
   "cell_type": "markdown",
   "metadata": {},
   "source": [
    "Test the palette of local extrema functions on $g$.\n",
    "\n",
    "__Q4.1__: What happens when you set $h$=5 resp. $h$=10?\n",
    "\n",
    "__Q4.2__: Why are there more maxima than minima for these h values?"
   ]
  },
  {
   "cell_type": "code",
   "execution_count": null,
   "metadata": {},
   "outputs": [],
   "source": [
    "\n"
   ]
  },
  {
   "cell_type": "markdown",
   "metadata": {},
   "source": [
    "### Answer\n",
    "\n",
    "..."
   ]
  },
  {
   "cell_type": "markdown",
   "metadata": {},
   "source": [
    "# Exercise 5: Watershed segmentation\n",
    "Reading: http://scikit-image.org/docs/dev/api/skimage.morphology.html?highlight=watershed#skimage.morphology.watershed\n",
    "and \n",
    "http://www.scipy-lectures.org/packages/scikit-image/auto_examples/plot_segmentations.html\n",
    "\n",
    "To segment a binary image with WS you have to compute it's\n",
    "distance map (hopefully already done as image $g$ in exercise 4). You also need a marker image that tells the algorithm where to start. I suggest using h_maxima to find the markers.\n",
    "\n",
    "Show the labeled image with a colormap that makes it possible to identify neighbors. This can be hard with the default colormap. \n",
    "\n",
    "__Q5__: What happens when you change the value of $h$ when you create the marker image?"
   ]
  },
  {
   "cell_type": "code",
   "execution_count": null,
   "metadata": {},
   "outputs": [],
   "source": []
  },
  {
   "cell_type": "markdown",
   "metadata": {},
   "source": [
    "### Answer\n",
    "\n",
    "..."
   ]
  },
  {
   "cell_type": "code",
   "execution_count": null,
   "metadata": {
    "collapsed": true
   },
   "outputs": [],
   "source": []
  }
 ],
 "metadata": {
  "kernelspec": {
   "display_name": "Python 3",
   "language": "python",
   "name": "python3"
  },
  "language_info": {
   "codemirror_mode": {
    "name": "ipython",
    "version": 3
   },
   "file_extension": ".py",
   "mimetype": "text/x-python",
   "name": "python",
   "nbconvert_exporter": "python",
   "pygments_lexer": "ipython3",
   "version": "3.6.1"
  }
 },
 "nbformat": 4,
 "nbformat_minor": 2
}
